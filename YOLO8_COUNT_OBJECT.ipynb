{
  "cells": [
    {
      "cell_type": "markdown",
      "metadata": {
        "id": "gIS9Q_lffXdi"
      },
      "source": [
        "#🔥Koneksikan ke drive letak model akan simpan🔥"
      ]
    },
    {
      "cell_type": "markdown",
      "source": [
        "##🚀Menyambungkan ke G-Drive"
      ],
      "metadata": {
        "id": "swSp8dUnY4gA"
      }
    },
    {
      "cell_type": "code",
      "execution_count": null,
      "metadata": {
        "id": "ur6YQzSVsiyG"
      },
      "outputs": [],
      "source": [
        "from google.colab import drive\n",
        "drive.mount('/content/drive')\n",
        "%cd /content/drive/MyDrive/YOLO8"
      ]
    },
    {
      "cell_type": "markdown",
      "source": [
        "#🔥Sambung dataset dari API pribadi milik Roboflow🔥"
      ],
      "metadata": {
        "id": "f2hihXQyE-SC"
      }
    },
    {
      "cell_type": "markdown",
      "source": [
        "##🚀Pilih letak data akan disimpan"
      ],
      "metadata": {
        "id": "3GuIDVAI5ppD"
      }
    },
    {
      "cell_type": "code",
      "source": [
        "%cd /content/drive/MyDrive/YOLO8"
      ],
      "metadata": {
        "id": "QCLzOu_45waj"
      },
      "execution_count": null,
      "outputs": []
    },
    {
      "cell_type": "markdown",
      "source": [
        "##🚀Intall Roboflow"
      ],
      "metadata": {
        "id": "1AefdDuO5P0k"
      }
    },
    {
      "cell_type": "code",
      "source": [
        "!pip install -U roboflow\n",
        "\n",
        "from roboflow import Roboflow"
      ],
      "metadata": {
        "id": "9DS9igN9kqr-"
      },
      "execution_count": null,
      "outputs": []
    },
    {
      "cell_type": "markdown",
      "source": [
        "##🚀Tembak API untuk dowload data"
      ],
      "metadata": {
        "id": "R6ZXwYGu5WJw"
      }
    },
    {
      "cell_type": "code",
      "source": [
        "privat_api_key = \"DJOTbaLgyNtA8hbrH5N8\"\n",
        "name_workspace = \"palm-oil-nk2ks\"\n",
        "name_project = \"cluster-palm-oil\"\n",
        "model_name = \"yolov8-obb\"\n",
        "\n",
        "rf = Roboflow(api_key = privat_api_key)\n",
        "project = rf.workspace(name_workspace).project(name_project)\n",
        "dataset = project.version(12).download(model_name)"
      ],
      "metadata": {
        "id": "np0vJ8h2Fbrc"
      },
      "execution_count": null,
      "outputs": []
    },
    {
      "cell_type": "markdown",
      "metadata": {
        "id": "5sDvF3BDertA"
      },
      "source": [
        "#🔥Clone the Git Repository and Install YOLOv8🔥"
      ]
    },
    {
      "cell_type": "markdown",
      "source": [
        "##🚀Pilih letak penyimpanan cloning"
      ],
      "metadata": {
        "id": "0--Iq8cj_P1z"
      }
    },
    {
      "cell_type": "code",
      "source": [
        "%cd /content/drive/MyDrive/YOLO8"
      ],
      "metadata": {
        "id": "wTQdKz_6_Ut8"
      },
      "execution_count": null,
      "outputs": []
    },
    {
      "cell_type": "markdown",
      "source": [
        "##🚀Cloning repository Github"
      ],
      "metadata": {
        "id": "amrbd132ZsyW"
      }
    },
    {
      "cell_type": "code",
      "source": [
        "!git clone https://github.com/ultralytics/ultralytics"
      ],
      "metadata": {
        "id": "HwhFzv9kSGbF"
      },
      "execution_count": null,
      "outputs": []
    },
    {
      "cell_type": "markdown",
      "source": [
        "##🚀Install Yolo8"
      ],
      "metadata": {
        "id": "yTIYJMFe4dBT"
      }
    },
    {
      "cell_type": "code",
      "source": [
        "%pip install -qe ultralytics\n",
        "%cd ultralytics\n",
        "%pip install -U ultralytics"
      ],
      "metadata": {
        "id": "v_-a0d3WaLV_"
      },
      "execution_count": null,
      "outputs": []
    },
    {
      "cell_type": "markdown",
      "metadata": {
        "id": "oxOssHvwkt8A"
      },
      "source": [
        "#🔥Running the Training Process🔥"
      ]
    },
    {
      "cell_type": "markdown",
      "source": [
        "###🌟Batchsize"
      ],
      "metadata": {
        "id": "mpJU9bV-h69Y"
      }
    },
    {
      "cell_type": "markdown",
      "source": [
        "Ukuran batch: Jumlah data yang dapat diproses secara bersamaan dan harus dalam pangkat dua\n",
        "\n",
        "Batchsize lebih dari 32 tidak realistis karena jika ukuran batch di atas 32 akan menghabiskan banyak memori.\n",
        "\n",
        "Kita juga dapat mengatur batchsize sebagai 4, tetapi waktu pelatihan akan meningkat ketika kita mengurangi batchsize"
      ],
      "metadata": {
        "id": "jSqIWCk5h9oC"
      }
    },
    {
      "cell_type": "markdown",
      "source": [
        "###🌟Image Size"
      ],
      "metadata": {
        "id": "oTj3kuqniGrg"
      }
    },
    {
      "cell_type": "markdown",
      "source": [
        "Karena kami melakukan pembelajaran transfer dalam proyek ini, model YOLOv8 dilatih dengan menetapkan ukuran gambar default sebagai 640 640, Jika kami mengubah ukuran gambar, keakuratannya mungkin terganggu"
      ],
      "metadata": {
        "id": "5EMx9zfviLA8"
      }
    },
    {
      "cell_type": "markdown",
      "source": [
        "###🌟Workers"
      ],
      "metadata": {
        "id": "28JxGG4dilaA"
      }
    },
    {
      "cell_type": "markdown",
      "source": [
        "Semakin banyak pekerja, semakin cepat pelatihannya, tetapi akan membutuhkan lebih banyak memori"
      ],
      "metadata": {
        "id": "f700Ja9Qis9y"
      }
    },
    {
      "cell_type": "markdown",
      "source": [
        "##🚀Pilih environment dan model akan disimpan"
      ],
      "metadata": {
        "id": "6XShmtXiatHw"
      }
    },
    {
      "cell_type": "code",
      "execution_count": null,
      "metadata": {
        "id": "rlaVPWQntVYJ"
      },
      "outputs": [],
      "source": [
        "%cd /content/drive/MyDrive/YOLO8/ultralytics"
      ]
    },
    {
      "cell_type": "markdown",
      "metadata": {
        "id": "e_QREju4k7Sv"
      },
      "source": [
        "##♾️Training process♾️"
      ]
    },
    {
      "cell_type": "code",
      "source": [
        "!yolo task         = detect \\\n",
        "        mode       = train \\\n",
        "        model      = yolov8n.pt \\\n",
        "        data       = /content/drive/MyDrive/YOLO8/chip.yaml \\\n",
        "        epochs     = 120 \\\n",
        "        workers    = 16 \\\n",
        "        batch      = -1 \\\n",
        "        imgsz      = 800 \\\n",
        "        save       = True \\\n",
        "        cache      = ram \\\n",
        "        verbose\t   = True \\\n",
        "        profile    = True \\\n",
        "        val        = True \\\n",
        "        plots      = True"
      ],
      "metadata": {
        "id": "NrcEmU63c2B7"
      },
      "execution_count": null,
      "outputs": []
    },
    {
      "cell_type": "markdown",
      "metadata": {
        "id": "22_aL4h7lEy1"
      },
      "source": [
        "##♾️Test Process♾️"
      ]
    },
    {
      "cell_type": "code",
      "execution_count": null,
      "metadata": {
        "id": "1_RkpdFAFbLk"
      },
      "outputs": [],
      "source": [
        "!yolo task      = detect \\\n",
        "       mode     = predict \\\n",
        "       model    = /content/drive/MyDrive/YOLO8/ultralytics/runs/detect/train/weights/best.pt \\\n",
        "       conf     = 0.2 \\\n",
        "       source   = '/content/drive/MyDrive/YOLO8/ultralytics/target_prediction/percobaan7.jpg'"
      ]
    },
    {
      "cell_type": "markdown",
      "source": [
        "#🔥Label🔥"
      ],
      "metadata": {
        "id": "v33cJn1HK9tC"
      }
    },
    {
      "cell_type": "markdown",
      "source": [
        "##🚀Persiapan"
      ],
      "metadata": {
        "id": "S3oc8Q7t7NTt"
      }
    },
    {
      "cell_type": "code",
      "source": [
        "%cd /content/drive/MyDrive/YOLO8"
      ],
      "metadata": {
        "id": "1OY6rQvEOd5E"
      },
      "execution_count": null,
      "outputs": []
    },
    {
      "cell_type": "markdown",
      "source": [
        "##🚀Ori Ultralitycs"
      ],
      "metadata": {
        "id": "uRpe5Le0TqPQ"
      }
    },
    {
      "cell_type": "markdown",
      "source": [
        "###🤖Percobaan"
      ],
      "metadata": {
        "id": "2r71ytL0gqcM"
      }
    },
    {
      "cell_type": "code",
      "source": [
        "import cv2\n",
        "from ultralytics import YOLO\n",
        "from ultralytics.solutions import object_counter\n",
        "import cv2\n",
        "from IPython.display import Image\n",
        "\n",
        "# Load your model (adjust path as needed)\n",
        "model = YOLO('/content/drive/MyDrive/YOLO8/ultralytics/runs/detect/train/weights/best.pt')\n",
        "\n",
        "# Load your image to predict\n",
        "predict_target = \"/content/drive/MyDrive/YOLO8/ultralytics/Data_17 05 2025/Percobaan1.jpg\"\n",
        "\n",
        "# Define class names\n",
        "class_names = {0: 'Cacat', 1: 'Matang', 2: 'Mentah'}\n",
        "\n",
        "#------------------------------------------------------------------------\n",
        "\n",
        "# Scan image\n",
        "image = cv2.imread(predict_target)\n",
        "\n",
        "# Initialize Object Counter\n",
        "counter = object_counter.ObjectCounter()\n",
        "\n",
        "# Define class names\n",
        "counter.names = class_names\n",
        "\n",
        "# Run detection and counting\n",
        "tracks = model.track(image, persist=True, show=True)\n",
        "image_with_counts = counter.start_counting(image, tracks)\n",
        "\n",
        "# Access the counts\n",
        "# counts = counter.in_counts # Assuming 'in_counts' is the correct attribute for object counts\n",
        "print(\"Object counts:\", counts)\n",
        "\n",
        "# Optionally, save the image (or use IPython.display if available)\n",
        "cv2.imwrite(\"counted_image.jpg\", image_with_counts)\n",
        "print(\"Image saved as 'counted_image.jpg'\")\n",
        "\n",
        "#--------------------------------------------------------------------------\n",
        "\n",
        "# Scan image\n",
        "image = cv2.imread(predict_target)\n",
        "\n",
        "# Run detection\n",
        "results = model(image, save=False)\n",
        "\n",
        "# Initialize counters (assuming the model doesn't provide counts)\n",
        "class_counts = {name: 0 for name in class_names.values()}\n",
        "\n",
        "# Process detections\n",
        "total = 0\n",
        "for result in results:\n",
        "    boxes = result.boxes.xyxy.tolist()  # Assuming xyxy format for bounding boxes\n",
        "    cls = result.boxes.cls.tolist()  # Class indices\n",
        "\n",
        "    # Update class counts\n",
        "    for class_index in cls:\n",
        "      total += 1\n",
        "      class_counts[class_names[class_index]] += 1\n",
        "\n",
        "# Print class names and counts\n",
        "print(\"Total = \", total)\n",
        "for class_name, count in class_counts.items():\n",
        "    print(f\"Tandan {class_name}: {count}\")\n",
        "\n",
        "# Mengetahui dalam array\n",
        "# print(cls)\n",
        "\n",
        "\n",
        "# # Display image\n",
        "Image(filename = f'/content/drive/MyDrive/YOLO8/counted_image.jpg', width=600)"
      ],
      "metadata": {
        "id": "MV7SNogBCWEw"
      },
      "execution_count": null,
      "outputs": []
    },
    {
      "cell_type": "markdown",
      "source": [
        "###🤖Conf Default"
      ],
      "metadata": {
        "id": "HULrTWGD-5Qu"
      }
    },
    {
      "cell_type": "code",
      "source": [
        "import cv2\n",
        "from ultralytics import YOLO\n",
        "from ultralytics.solutions import object_counter\n",
        "from IPython.display import Image, display\n",
        "\n",
        "# Load your model (adjust path as needed)\n",
        "model = YOLO('/content/drive/MyDrive/YOLO8/ultralytics/runs/detect/train/weights/best.pt')\n",
        "\n",
        "# Load your image to predict\n",
        "predict_target = \"/content/drive/MyDrive/YOLO8/ultralytics/Data_17 05 2025/Percobaan1.jpg\"\n",
        "\n",
        "# Define class names and their corresponding colors\n",
        "class_names = {0: 'Cacat', 1: 'Matang', 2: 'Mentah'}\n",
        "class_colors = {\n",
        "    'Cacat': (0, 0, 255),  # Red\n",
        "    'Matang': (0, 128, 0),  # Dark Green\n",
        "    'Mentah': (255, 0, 0)   # Blue\n",
        "}\n",
        "\n",
        "#------------------------------------------------------------------------\n",
        "\n",
        "# Scan image\n",
        "image = cv2.imread(predict_target)\n",
        "\n",
        "# Initialize Object Counter\n",
        "counter = object_counter.ObjectCounter()\n",
        "\n",
        "# Modify the extract_and_process_tracks method to use custom colors\n",
        "def extract_and_process_tracks_custom(self, tracks):\n",
        "    \"\"\"Extracts and processes tracks for object counting in a video stream.\"\"\"\n",
        "\n",
        "    # Annotator Init and region drawing\n",
        "    self.annotator = object_counter.Annotator(self.im0, self.tf, self.names)\n",
        "\n",
        "    # Draw region or line\n",
        "    self.annotator.draw_region(reg_pts=self.reg_pts, color=self.region_color, thickness=self.region_thickness)\n",
        "\n",
        "    if tracks[0].boxes.id is not None:\n",
        "        boxes = tracks[0].boxes.xyxy.cpu()\n",
        "        clss = tracks[0].boxes.cls.cpu().tolist()\n",
        "        track_ids = tracks[0].boxes.id.int().cpu().tolist()\n",
        "\n",
        "        # Extract tracks\n",
        "        for box, track_id, cls in zip(boxes, track_ids, clss):\n",
        "            # Get color for the class\n",
        "            color = class_colors[self.names[cls]]\n",
        "\n",
        "            # Draw bounding box with custom color\n",
        "            self.annotator.box_label(box, label=f\"{self.names[cls]}#{track_id}\", color=color)\n",
        "\n",
        "            # Store class info\n",
        "            if self.names[cls] not in self.class_wise_count:\n",
        "                self.class_wise_count[self.names[cls]] = {\"IN\": 0, \"OUT\": 0}\n",
        "\n",
        "            # Draw Tracks\n",
        "            track_line = self.track_history[track_id]\n",
        "            track_line.append((float((box[0] + box[2]) / 2), float((box[1] + box[3]) / 2)))\n",
        "            if len(track_line) > 30:\n",
        "                track_line.pop(0)\n",
        "\n",
        "            # Draw track trails\n",
        "            if self.draw_tracks:\n",
        "                self.annotator.draw_centroid_and_tracks(\n",
        "                    track_line,\n",
        "                    color=self.track_color if self.track_color else color,\n",
        "                    track_thickness=self.track_thickness,\n",
        "                )\n",
        "\n",
        "            prev_position = self.track_history[track_id][-2] if len(self.track_history[track_id]) > 1 else None\n",
        "\n",
        "            # Count objects in any polygon\n",
        "            if len(self.reg_pts) >= 3:\n",
        "                is_inside = self.counting_region.contains(object_counter.Point(track_line[-1]))\n",
        "\n",
        "                if prev_position is not None and is_inside and track_id not in self.count_ids:\n",
        "                    self.count_ids.append(track_id)\n",
        "\n",
        "                    if (box[0] - prev_position[0]) * (self.counting_region.centroid.x - prev_position[0]) > 0:\n",
        "                        self.in_counts += 1\n",
        "                        self.class_wise_count[self.names[cls]][\"IN\"] += 1\n",
        "                    else:\n",
        "                        self.out_counts += 1\n",
        "                        self.class_wise_count[self.names[cls]][\"OUT\"] += 1\n",
        "\n",
        "            # Count objects using line\n",
        "            elif len(self.reg_pts) == 2:\n",
        "                if prev_position is not None and track_id not in self.count_ids:\n",
        "                    distance = object_counter.Point(track_line[-1]).distance(self.counting_region)\n",
        "                    if distance < self.line_dist_thresh and track_id not in self.count_ids:\n",
        "                        self.count_ids.append(track_id)\n",
        "\n",
        "                        if (box[0] - prev_position[0]) * (self.counting_region.centroid.x - prev_position[0]) > 0:\n",
        "                            self.in_counts += 1\n",
        "                            self.class_wise_count[self.names[cls]][\"IN\"] += 1\n",
        "                        else:\n",
        "                            self.out_counts += 1\n",
        "                            self.class_wise_count[self.names[cls]][\"OUT\"] += 1\n",
        "\n",
        "    labels_dict = {}\n",
        "\n",
        "    for key, value in self.class_wise_count.items():\n",
        "        if value[\"IN\"] != 0 or value[\"OUT\"] != 0:\n",
        "            if not self.view_in_counts and not self.view_out_counts:\n",
        "                continue\n",
        "            elif not self.view_in_counts:\n",
        "                labels_dict[str.capitalize(key)] = f\"OUT {value['OUT']}\"\n",
        "            elif not self.view_out_counts:\n",
        "                labels_dict[str.capitalize(key)] = f\"IN {value['IN']}\"\n",
        "            else:\n",
        "                labels_dict[str.capitalize(key)] = f\"IN {value['IN']} OUT {value['OUT']}\"\n",
        "\n",
        "    if labels_dict is not None:\n",
        "        self.annotator.display_analytics(self.im0, labels_dict, self.count_txt_color, self.count_bg_color, 10)\n",
        "\n",
        "# Override the method in ObjectCounter\n",
        "object_counter.ObjectCounter.extract_and_process_tracks = extract_and_process_tracks_custom\n",
        "\n",
        "# Set Object Counter arguments\n",
        "counter.set_args(\n",
        "    classes_names=class_names,\n",
        "    reg_pts=[(20, 400), (1260, 400)],  # Example region points, adjust as needed\n",
        "    view_img=False,  # Disable image display since environment does not support it\n",
        "    view_in_counts=True,\n",
        "    view_out_counts=True\n",
        ")\n",
        "\n",
        "# Run detection and counting\n",
        "tracks = model.track(image, persist=True)\n",
        "image_with_counts = counter.start_counting(image, tracks)\n",
        "\n",
        "# Access the counts\n",
        "in_counts = counter.in_counts\n",
        "out_counts = counter.out_counts\n",
        "print(\"Object counts (IN):\", in_counts)\n",
        "print(\"Object counts (OUT):\", out_counts)\n",
        "\n",
        "# Optionally, save the image\n",
        "cv2.imwrite(\"counted_image.jpg\", image_with_counts)\n",
        "print(\"Image saved as 'counted_image.jpg'\")\n",
        "\n",
        "#--------------------------------------------------------------------------\n",
        "\n",
        "# Scan image\n",
        "image = cv2.imread(predict_target)\n",
        "\n",
        "# Run detection\n",
        "results = model(image, save=False)\n",
        "\n",
        "# Initialize counters (assuming the model doesn't provide counts)\n",
        "class_counts = {name: 0 for name in class_names.values()}\n",
        "\n",
        "# Process detections\n",
        "total = 0\n",
        "for result in results:\n",
        "    boxes = result.boxes.xyxy.tolist()  # Assuming xyxy format for bounding boxes\n",
        "    cls = result.boxes.cls.tolist()  # Class indices\n",
        "\n",
        "    # Update class counts\n",
        "    for class_index in cls:\n",
        "        total += 1\n",
        "        class_counts[class_names[class_index]] += 1\n",
        "\n",
        "# Print class names and counts\n",
        "print(\"Total =\", total)\n",
        "for class_name, count in class_counts.items():\n",
        "    print(f\"Tandan {class_name}: {count}\")\n",
        "\n",
        "# Display image using IPython.display\n",
        "display(Image(filename='counted_image.jpg', width=600))\n"
      ],
      "metadata": {
        "id": "fbGpWbPdq4xR"
      },
      "execution_count": null,
      "outputs": []
    },
    {
      "cell_type": "markdown",
      "source": [
        "###🤖Confidenct Settings"
      ],
      "metadata": {
        "id": "4U36Be3S_t_S"
      }
    },
    {
      "cell_type": "code",
      "source": [
        "from ultralytics import YOLO\n",
        "from ultralytics.solutions import object_counter\n",
        "import cv2\n",
        "from IPython.display import Image, display\n",
        "\n",
        "# Load your model\n",
        "model = YOLO('/content/drive/MyDrive/YOLO8/ultralytics/runs/detect/train/weights/best.pt')  # Adjust model path as needed\n",
        "\n",
        "# Define class names and their corresponding colors\n",
        "class_names = {0: 'Cacat', 1: 'Matang', 2: 'Mentah'}\n",
        "class_colors = {\n",
        "    'Cacat': (0, 0, 255),        # Red\n",
        "    'Matang': (0, 100, 0),       # Dark Green\n",
        "    'Mentah': (255, 0, 0)        # Blue\n",
        "}\n",
        "\n",
        "predict_target = '/content/drive/MyDrive/YOLO8/ultralytics/Data_17 05 2025/Percobaan8.jpg'\n",
        "\n",
        "# Scan dengan (second image)\n",
        "results = model(source=predict_target, save=True, conf=0.03, verbose=False)\n",
        "\n",
        "# Initialize counters (assuming the model doesn't provide counts)\n",
        "Total = 0\n",
        "Cacat = 0\n",
        "Matang = 0\n",
        "Mentah = 0\n",
        "\n",
        "# Process detections\n",
        "annotated_image = cv2.imread(predict_target)\n",
        "for result in results:\n",
        "    boxes = result.boxes  # Boxes object for bbox outputs\n",
        "    cls = boxes.cls.tolist()  # Convert tensor to list\n",
        "\n",
        "    for i, class_index in enumerate(cls):\n",
        "        Total += 1\n",
        "        if class_index == 0:\n",
        "            Cacat += 1\n",
        "        elif class_index == 1:\n",
        "            Matang += 1\n",
        "        elif class_index == 2:\n",
        "            Mentah += 1\n",
        "\n",
        "        # Annotate image with bounding boxes, labels, and order numbers\n",
        "        x1, y1, x2, y2 = map(int, boxes.xyxy[i])\n",
        "        label = class_names[class_index]\n",
        "        color = class_colors[label]\n",
        "        label_with_num = f\"{label} {Total}\"\n",
        "\n",
        "        # Draw bounding box\n",
        "        cv2.rectangle(annotated_image, (x1, y1), (x2, y2), color, 2)\n",
        "\n",
        "        # Background for text\n",
        "        font_scale = 0.5  # Smaller font scale\n",
        "        font_thickness = 1  # Smaller thickness\n",
        "        (w, h), _ = cv2.getTextSize(label_with_num, cv2.FONT_HERSHEY_SIMPLEX, font_scale, font_thickness)\n",
        "        cv2.rectangle(annotated_image, (x1, y1 - h - 4), (x1 + w, y1), color, -1)\n",
        "\n",
        "        # Put label with number\n",
        "        cv2.putText(annotated_image, label_with_num, (x1, y1 - 4), cv2.FONT_HERSHEY_SIMPLEX, font_scale, (255, 255, 255), font_thickness)  # Black text\n",
        "\n",
        "# Save the annotated image\n",
        "annotated_image_path = 'annotated_image.jpg'\n",
        "cv2.imwrite(annotated_image_path, annotated_image)\n",
        "\n",
        "# Print result\n",
        "print(\"Total : \", Total)\n",
        "print(\"Tandan Matang : \", Matang)\n",
        "print(\"Tandan Mentah : \", Mentah)\n",
        "print(\"Tandan Cacat : \", Cacat)\n",
        "\n",
        "# Display image\n",
        "display(Image(filename=annotated_image_path, width=600))\n",
        "\n",
        "# Mengetahui dalam array\n",
        "# print(cls)\n"
      ],
      "metadata": {
        "id": "jSSFzXg5r_le"
      },
      "execution_count": null,
      "outputs": []
    },
    {
      "cell_type": "markdown",
      "source": [
        "###🤖Class || Confidence == Save"
      ],
      "metadata": {
        "id": "g-Udqcmxgf1_"
      }
    },
    {
      "cell_type": "code",
      "source": [
        "from ultralytics import YOLO\n",
        "from ultralytics.solutions import object_counter\n",
        "import cv2\n",
        "from IPython.display import Image\n",
        "\n",
        "# Load your model\n",
        "model = YOLO('/content/drive/MyDrive/YOLO8/ultralytics/runs/detect/train/weights/best.pt')  # Adjust model path as needed\n",
        "\n",
        "# Define name classes\n",
        "class_names = {0: 'Cacat', 1: 'Matang', 2: 'Mentah'}\n",
        "\n",
        "predict_target = '/content/drive/MyDrive/YOLO8/ultralytics/Data_17 05 2025/Percobaan3.jpg'\n",
        "\n",
        "# Scan dengan (second image)\n",
        "results = model(source = predict_target, save=True, conf=0.5, verbose=False)\n",
        "\n",
        "# Define counters (assuming model doesn't provide counts)\n",
        "Total = 0\n",
        "Cacat = 0\n",
        "Matang = 0\n",
        "Mentah = 0\n",
        "\n",
        "# loop scan result\n",
        "for result in results:\n",
        "    boxes = result.boxes  # Boxes object for bbox outputs\n",
        "    probs = result.probs  # Class probabilities for classification outputs\n",
        "    cls = boxes.cls.tolist()  # Convert tensor to list\n",
        "    xyxy = boxes.xyxy\n",
        "    xywh = boxes.xywh  # box with xywh format, (N, 4)\n",
        "    conf = boxes.conf\n",
        "\n",
        "# loop count\n",
        "for class_index in cls:\n",
        "      Total += 1\n",
        "      if class_index == 0:\n",
        "          Cacat += 1\n",
        "      elif class_index == 1:\n",
        "          Matang += 1\n",
        "      elif class_index == 2:\n",
        "          Mentah += 1\n",
        "\n",
        "# print result\n",
        "print(\"Total : \", Total)\n",
        "print(\"Tandan Matang : \", Matang)\n",
        "print(\"Tandan Mentah : \", Mentah)\n",
        "print(\"Tandan cacat : \", Cacat)\n",
        "\n",
        "# # Display image\n",
        "Image(filename = f'runs/detect/predict45/Percobaan3.jpg', width=600)\n",
        "\n",
        "# Mengetahui dalam array\n",
        "# print(cls)"
      ],
      "metadata": {
        "id": "HUwue_PSch5E"
      },
      "execution_count": null,
      "outputs": []
    },
    {
      "cell_type": "markdown",
      "metadata": {
        "id": "fpuVUaoPIK1W"
      },
      "source": [
        "#🔥Converting to ONXX🔥"
      ]
    },
    {
      "cell_type": "code",
      "execution_count": null,
      "metadata": {
        "id": "e078U469IUKJ"
      },
      "outputs": [],
      "source": [
        "!yolo task=detect mode=export model=runs/detect/train2/weights/best.pt format=onnx simplify=True opset=13 imgsz=416"
      ]
    },
    {
      "cell_type": "code",
      "execution_count": null,
      "metadata": {
        "colab": {
          "background_save": true
        },
        "id": "rlFzhAFwTtCw"
      },
      "outputs": [],
      "source": [
        " import tensorflow as tf"
      ]
    },
    {
      "cell_type": "code",
      "execution_count": null,
      "metadata": {
        "colab": {
          "background_save": true
        },
        "id": "rvUxXGP1mjz8"
      },
      "outputs": [],
      "source": [
        "%load_ext tensorboard\n",
        "%tensorboard --logdir runs"
      ]
    },
    {
      "cell_type": "code",
      "execution_count": null,
      "metadata": {
        "colab": {
          "background_save": true
        },
        "id": "N5swAklnTv2V"
      },
      "outputs": [],
      "source": [
        "tf.test.gpu_device_name()"
      ]
    }
  ],
  "metadata": {
    "colab": {
      "collapsed_sections": [
        "f2hihXQyE-SC",
        "oxOssHvwkt8A",
        "22_aL4h7lEy1",
        "fpuVUaoPIK1W"
      ],
      "provenance": [],
      "private_outputs": true
    },
    "kernelspec": {
      "display_name": "Python 3",
      "name": "python3"
    },
    "language_info": {
      "name": "python"
    }
  },
  "nbformat": 4,
  "nbformat_minor": 0
}